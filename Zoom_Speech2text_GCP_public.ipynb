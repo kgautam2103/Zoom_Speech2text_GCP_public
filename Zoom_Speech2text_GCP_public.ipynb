{
  "nbformat": 4,
  "nbformat_minor": 0,
  "metadata": {
    "colab": {
      "name": "Zoom_Speech2text_GCP_public.ipynb",
      "provenance": [],
      "collapsed_sections": [],
      "authorship_tag": "ABX9TyNXgLRPRs1xrOIetHnOyd6Q",
      "include_colab_link": true
    },
    "kernelspec": {
      "name": "python3",
      "display_name": "Python 3"
    },
    "language_info": {
      "name": "python"
    }
  },
  "cells": [
    {
      "cell_type": "markdown",
      "metadata": {
        "id": "view-in-github",
        "colab_type": "text"
      },
      "source": [
        "<a href=\"https://colab.research.google.com/github/kgautam2103/Zoom_Speech2text_GCP_public/blob/main/Zoom_Speech2text_GCP_public.ipynb\" target=\"_parent\"><img src=\"https://colab.research.google.com/assets/colab-badge.svg\" alt=\"Open In Colab\"/></a>"
      ]
    },
    {
      "cell_type": "code",
      "metadata": {
        "colab": {
          "base_uri": "https://localhost:8080/"
        },
        "id": "QRc21w9nbvi3",
        "outputId": "51716ff9-f1bd-4e6c-f692-5642816412cf"
      },
      "source": [
        "from google.colab import drive\n",
        "drive.mount(\"mnt\",force_remount=True)\n",
        "%run '/content/mnt/MyDrive/Colab Notebooks/zoom_speech2text_utility_functions.ipynb'\n",
        "!cp /content/mnt/MyDrive/bigdata-poc-281913-c1c79233a51d.json /content/adc.json\n"
      ],
      "execution_count": null,
      "outputs": [
        {
          "output_type": "stream",
          "text": [
            "Mounted at mnt\n"
          ],
          "name": "stdout"
        }
      ]
    },
    {
      "cell_type": "code",
      "metadata": {
        "id": "hbw0a8jWFDMS"
      },
      "source": [
        "!pip3 install pydub\n",
        "!pip3 install google-cloud\n",
        "!pip3 install google-cloud-speech\n"
      ],
      "execution_count": null,
      "outputs": []
    },
    {
      "cell_type": "code",
      "metadata": {
        "colab": {
          "base_uri": "https://localhost:8080/"
        },
        "id": "ZsvvXQQ4WEiB",
        "outputId": "01c96bc8-8307-4fe3-aa80-25e38029cb50"
      },
      "source": [
        "import requests\n",
        "import os\n",
        "import wave\n",
        "from pydub import AudioSegment\n",
        "from google.cloud import storage\n",
        "from urllib.parse import urlencode\n",
        "from google.cloud import speech_v1p1beta1 as speech\n",
        "from google.colab import files\n",
        "\n",
        "\n",
        "meeting_id = input(\"enter the meeting id like 9181716151 : \")\n",
        "recording_date = input(\"enter the recording date like 2021-07-25 : \")\n",
        "base_url = 'https://api.zoom.us/v2/'\n",
        "past_meetings = base_url+'/past_meetings/'\n",
        "get_meeting_url = past_meetings+meeting_id+'/instances'\n",
        "cwd = os.getcwd()\n",
        "print(cwd)\n",
        "\n",
        "#put the auth token for the zoom account\n",
        "auth_token = ''\n",
        "\n",
        "\n",
        "\n",
        "authorization = 'Bearer ' + auth_token\n",
        "auth_headers = {\n",
        "    'Authorization': authorization,\n",
        "    'Content-Type': 'application/json'\n",
        "    }\n",
        "\n",
        "meeting_id_response = requests.get(get_meeting_url,headers=auth_headers)\n",
        "\n",
        "if meeting_id_response.status_code == 200:\n",
        "\n",
        "  for x in meeting_id_response.json()['meetings']:\n",
        "    if recording_date in str(x['start_time']):\n",
        "      print(x)\n",
        "   "
      ],
      "execution_count": null,
      "outputs": [
        {
          "output_type": "stream",
          "text": [
            "enter the meeting id like 9181716151 : 9181716151\n",
            "enter the recording date like 2021-07-25 : 2021-08-06\n",
            "/content\n",
            "{'uuid': 'A5JzJ1rqR6CMMi9KpLF0Hg==', 'start_time': '2021-08-06T10:04:22Z'}\n",
            "{'uuid': 'EcQCnXqRRa2tt9MF+PFHRg==', 'start_time': '2021-08-06T16:44:37Z'}\n",
            "{'uuid': 'IPDUNB7cSU6nXpgT/YINnw==', 'start_time': '2021-08-06T16:02:47Z'}\n",
            "{'uuid': 'p7Kl684GRMuXrYjH/8VAKA==', 'start_time': '2021-08-06T00:31:55Z'}\n"
          ],
          "name": "stdout"
        }
      ]
    },
    {
      "cell_type": "code",
      "metadata": {
        "colab": {
          "base_uri": "https://localhost:8080/",
          "height": 136
        },
        "id": "wpBhpH0EX6ni",
        "outputId": "fd06db1d-148e-4a2c-af9a-e46731e71a4b"
      },
      "source": [
        "#based on the above result, please enter the meeting uuid\n",
        "meeting_uuid = input(\"enter the meeting uuid like wHc5q3qBT2+RfFdg8Gt9dg== : \")\n",
        "project_id='bigdata-poc-281913'\n",
        "gcs_bucket_name='speech-to-audio'\n",
        "key='/content/adc.json'\n",
        "\n",
        "double_encoded_meeting_uuid = double_encode_uuid(meeting_uuid)\n",
        "\n",
        "recording_url='meetings/'+double_encoded_meeting_uuid+'/recordings'\n",
        "final_recording_url=base_url+recording_url\n",
        "\n",
        "recording_response = requests.get(final_recording_url,headers=auth_headers)\n",
        "\n",
        "recording_download_url,start_ts = get_recording_download_url(recording_response.json())\n",
        "download_response = requests.get(recording_download_url)\n",
        "\n",
        "download_file_name=start_ts+\".m4a\"\n",
        "wav_file_name = start_ts+\".wav\"\n",
        "transcript_file_name = cwd+\"/\"+start_ts+\".txt\"\n",
        "\n",
        "open(download_file_name,'wb').write(download_response.content)\n",
        "print(\"m4a written to local\")\n",
        "\n",
        "input_filepath = cwd+\"/\"+download_file_name\n",
        "wav_filepath = m4a_to_wav(input_filepath)\n",
        "print(\"m4a converted to wav\")\n",
        "\n",
        "os.environ.setdefault(\"GCLOUD_PROJECT\", project_id)\n",
        "os.environ.setdefault(\"GOOGLE_APPLICATION_CREDENTIALS\", key)\n",
        "upload_blob(gcs_bucket_name,wav_filepath,wav_file_name)\n",
        "print(\"file uploaded to GCS\")\n",
        "\n",
        "transcript = google_transcribe(cwd,gcs_bucket_name,wav_file_name)\n",
        "write_transcripts(transcript_file_name,transcript)\n",
        "print(\"transcript written to the file\")\n",
        "files.download(transcript_file_name)"
      ],
      "execution_count": null,
      "outputs": [
        {
          "output_type": "stream",
          "text": [
            "enter the meeting uuid like wHc5q3qBT2+RfFdg8Gt9dg== : IPDUNB7cSU6nXpgT/YINnw==\n",
            "m4a written to local\n",
            "m4a converted to wav\n",
            "file uploaded to GCS\n",
            "32000\n",
            "1\n",
            "transcript written to the file\n"
          ],
          "name": "stdout"
        },
        {
          "output_type": "display_data",
          "data": {
            "application/javascript": [
              "\n",
              "    async function download(id, filename, size) {\n",
              "      if (!google.colab.kernel.accessAllowed) {\n",
              "        return;\n",
              "      }\n",
              "      const div = document.createElement('div');\n",
              "      const label = document.createElement('label');\n",
              "      label.textContent = `Downloading \"${filename}\": `;\n",
              "      div.appendChild(label);\n",
              "      const progress = document.createElement('progress');\n",
              "      progress.max = size;\n",
              "      div.appendChild(progress);\n",
              "      document.body.appendChild(div);\n",
              "\n",
              "      const buffers = [];\n",
              "      let downloaded = 0;\n",
              "\n",
              "      const channel = await google.colab.kernel.comms.open(id);\n",
              "      // Send a message to notify the kernel that we're ready.\n",
              "      channel.send({})\n",
              "\n",
              "      for await (const message of channel.messages) {\n",
              "        // Send a message to notify the kernel that we're ready.\n",
              "        channel.send({})\n",
              "        if (message.buffers) {\n",
              "          for (const buffer of message.buffers) {\n",
              "            buffers.push(buffer);\n",
              "            downloaded += buffer.byteLength;\n",
              "            progress.value = downloaded;\n",
              "          }\n",
              "        }\n",
              "      }\n",
              "      const blob = new Blob(buffers, {type: 'application/binary'});\n",
              "      const a = document.createElement('a');\n",
              "      a.href = window.URL.createObjectURL(blob);\n",
              "      a.download = filename;\n",
              "      div.appendChild(a);\n",
              "      a.click();\n",
              "      div.remove();\n",
              "    }\n",
              "  "
            ],
            "text/plain": [
              "<IPython.core.display.Javascript object>"
            ]
          },
          "metadata": {
            "tags": []
          }
        },
        {
          "output_type": "display_data",
          "data": {
            "application/javascript": [
              "download(\"download_079314ad-64a8-4387-b66b-a230f92c3d4e\", \"2021-08-06T16:02:47Z.txt\", 384)"
            ],
            "text/plain": [
              "<IPython.core.display.Javascript object>"
            ]
          },
          "metadata": {
            "tags": []
          }
        }
      ]
    }
  ]
}